{
 "cells": [
  {
   "cell_type": "code",
   "execution_count": 43,
   "id": "781481bd",
   "metadata": {},
   "outputs": [],
   "source": [
    "import pandas as pd\n",
    "import numpy as np\n",
    "from joblib import dump, load\n",
    "from sklearn.linear_model import LinearRegression\n",
    "from sklearn.preprocessing import StandardScaler\n",
    "from sklearn.neighbors import KNeighborsRegressor\n",
    "from sklearn.ensemble import RandomForestRegressor\n",
    "from sklearn.model_selection import train_test_split\n",
    "import xgboost as xgb\n",
    "from sklearn.metrics import mean_squared_error"
   ]
  },
  {
   "cell_type": "code",
   "execution_count": 173,
   "id": "c6ddf0e2",
   "metadata": {},
   "outputs": [
    {
     "data": {
      "text/html": [
       "<div>\n",
       "<style scoped>\n",
       "    .dataframe tbody tr th:only-of-type {\n",
       "        vertical-align: middle;\n",
       "    }\n",
       "\n",
       "    .dataframe tbody tr th {\n",
       "        vertical-align: top;\n",
       "    }\n",
       "\n",
       "    .dataframe thead th {\n",
       "        text-align: right;\n",
       "    }\n",
       "</style>\n",
       "<table border=\"1\" class=\"dataframe\">\n",
       "  <thead>\n",
       "    <tr style=\"text-align: right;\">\n",
       "      <th></th>\n",
       "      <th>Unnamed: 0</th>\n",
       "      <th>playerID</th>\n",
       "      <th>BA</th>\n",
       "      <th>2B/AB</th>\n",
       "      <th>3B/AB</th>\n",
       "      <th>HR/AB</th>\n",
       "      <th>RBI/G</th>\n",
       "      <th>R/G</th>\n",
       "      <th>BB/G</th>\n",
       "      <th>SB/G</th>\n",
       "      <th>...</th>\n",
       "      <th>position_2.0</th>\n",
       "      <th>position_3.0</th>\n",
       "      <th>position_4.0</th>\n",
       "      <th>position_5.0</th>\n",
       "      <th>position_6.0</th>\n",
       "      <th>position_7.0</th>\n",
       "      <th>position_8.0</th>\n",
       "      <th>position_9.0</th>\n",
       "      <th>position_10.0</th>\n",
       "      <th>position_11.0</th>\n",
       "    </tr>\n",
       "  </thead>\n",
       "  <tbody>\n",
       "    <tr>\n",
       "      <th>0</th>\n",
       "      <td>3083</td>\n",
       "      <td>tabatjo01</td>\n",
       "      <td>0.275126</td>\n",
       "      <td>0.050879</td>\n",
       "      <td>0.009422</td>\n",
       "      <td>0.010678</td>\n",
       "      <td>0.247544</td>\n",
       "      <td>0.408644</td>\n",
       "      <td>0.253438</td>\n",
       "      <td>0.092338</td>\n",
       "      <td>...</td>\n",
       "      <td>0</td>\n",
       "      <td>0</td>\n",
       "      <td>0</td>\n",
       "      <td>0</td>\n",
       "      <td>0</td>\n",
       "      <td>0</td>\n",
       "      <td>0</td>\n",
       "      <td>1</td>\n",
       "      <td>0</td>\n",
       "      <td>0</td>\n",
       "    </tr>\n",
       "    <tr>\n",
       "      <th>1</th>\n",
       "      <td>2539</td>\n",
       "      <td>preslal01</td>\n",
       "      <td>0.263383</td>\n",
       "      <td>0.035689</td>\n",
       "      <td>0.013562</td>\n",
       "      <td>0.020700</td>\n",
       "      <td>0.246667</td>\n",
       "      <td>0.348889</td>\n",
       "      <td>0.180000</td>\n",
       "      <td>0.066667</td>\n",
       "      <td>...</td>\n",
       "      <td>0</td>\n",
       "      <td>0</td>\n",
       "      <td>0</td>\n",
       "      <td>0</td>\n",
       "      <td>0</td>\n",
       "      <td>1</td>\n",
       "      <td>0</td>\n",
       "      <td>0</td>\n",
       "      <td>0</td>\n",
       "      <td>0</td>\n",
       "    </tr>\n",
       "    <tr>\n",
       "      <th>2</th>\n",
       "      <td>2012</td>\n",
       "      <td>mccutan01</td>\n",
       "      <td>0.284697</td>\n",
       "      <td>0.056807</td>\n",
       "      <td>0.007950</td>\n",
       "      <td>0.040245</td>\n",
       "      <td>0.527520</td>\n",
       "      <td>0.602350</td>\n",
       "      <td>0.522573</td>\n",
       "      <td>0.118120</td>\n",
       "      <td>...</td>\n",
       "      <td>0</td>\n",
       "      <td>0</td>\n",
       "      <td>0</td>\n",
       "      <td>0</td>\n",
       "      <td>0</td>\n",
       "      <td>0</td>\n",
       "      <td>1</td>\n",
       "      <td>0</td>\n",
       "      <td>0</td>\n",
       "      <td>0</td>\n",
       "    </tr>\n",
       "    <tr>\n",
       "      <th>3</th>\n",
       "      <td>1174</td>\n",
       "      <td>gordode01</td>\n",
       "      <td>0.285937</td>\n",
       "      <td>0.032233</td>\n",
       "      <td>0.014037</td>\n",
       "      <td>0.004679</td>\n",
       "      <td>0.233533</td>\n",
       "      <td>0.530938</td>\n",
       "      <td>0.167665</td>\n",
       "      <td>0.332335</td>\n",
       "      <td>...</td>\n",
       "      <td>0</td>\n",
       "      <td>0</td>\n",
       "      <td>0</td>\n",
       "      <td>0</td>\n",
       "      <td>1</td>\n",
       "      <td>0</td>\n",
       "      <td>0</td>\n",
       "      <td>0</td>\n",
       "      <td>0</td>\n",
       "      <td>0</td>\n",
       "    </tr>\n",
       "    <tr>\n",
       "      <th>4</th>\n",
       "      <td>896</td>\n",
       "      <td>ellisma01</td>\n",
       "      <td>0.262458</td>\n",
       "      <td>0.050225</td>\n",
       "      <td>0.004886</td>\n",
       "      <td>0.020520</td>\n",
       "      <td>0.383275</td>\n",
       "      <td>0.480836</td>\n",
       "      <td>0.305226</td>\n",
       "      <td>0.057143</td>\n",
       "      <td>...</td>\n",
       "      <td>0</td>\n",
       "      <td>0</td>\n",
       "      <td>1</td>\n",
       "      <td>0</td>\n",
       "      <td>0</td>\n",
       "      <td>0</td>\n",
       "      <td>0</td>\n",
       "      <td>0</td>\n",
       "      <td>0</td>\n",
       "      <td>0</td>\n",
       "    </tr>\n",
       "  </tbody>\n",
       "</table>\n",
       "<p>5 rows × 54 columns</p>\n",
       "</div>"
      ],
      "text/plain": [
       "   Unnamed: 0   playerID        BA     2B/AB     3B/AB     HR/AB     RBI/G  \\\n",
       "0        3083  tabatjo01  0.275126  0.050879  0.009422  0.010678  0.247544   \n",
       "1        2539  preslal01  0.263383  0.035689  0.013562  0.020700  0.246667   \n",
       "2        2012  mccutan01  0.284697  0.056807  0.007950  0.040245  0.527520   \n",
       "3        1174  gordode01  0.285937  0.032233  0.014037  0.004679  0.233533   \n",
       "4         896  ellisma01  0.262458  0.050225  0.004886  0.020520  0.383275   \n",
       "\n",
       "        R/G      BB/G      SB/G  ...  position_2.0  position_3.0 position_4.0  \\\n",
       "0  0.408644  0.253438  0.092338  ...             0             0            0   \n",
       "1  0.348889  0.180000  0.066667  ...             0             0            0   \n",
       "2  0.602350  0.522573  0.118120  ...             0             0            0   \n",
       "3  0.530938  0.167665  0.332335  ...             0             0            0   \n",
       "4  0.480836  0.305226  0.057143  ...             0             0            1   \n",
       "\n",
       "   position_5.0  position_6.0  position_7.0  position_8.0  position_9.0  \\\n",
       "0             0             0             0             0             1   \n",
       "1             0             0             1             0             0   \n",
       "2             0             0             0             1             0   \n",
       "3             0             1             0             0             0   \n",
       "4             0             0             0             0             0   \n",
       "\n",
       "   position_10.0  position_11.0  \n",
       "0              0              0  \n",
       "1              0              0  \n",
       "2              0              0  \n",
       "3              0              0  \n",
       "4              0              0  \n",
       "\n",
       "[5 rows x 54 columns]"
      ]
     },
     "execution_count": 173,
     "metadata": {},
     "output_type": "execute_result"
    }
   ],
   "source": [
    "data_file_1 = pd.read_csv('../data/completed_df.csv')\n",
    "data_file_2 = pd.read_csv('../data/completed_df_part2.csv')\n",
    "data_file_1 = pd.get_dummies(data_file_1, columns=['position'], drop_first=True)\n",
    "batter_data = data_file_1.append(data_file_2)\n",
    "batter_data = batter_data.replace([np.inf, -np.inf], np.nan)\n",
    "batter_data = batter_data.dropna()\n",
    "batter_data.head()"
   ]
  },
  {
   "cell_type": "code",
   "execution_count": 174,
   "id": "0348d1c0",
   "metadata": {},
   "outputs": [
    {
     "data": {
      "text/plain": [
       "(498650, 54)"
      ]
     },
     "execution_count": 174,
     "metadata": {},
     "output_type": "execute_result"
    }
   ],
   "source": [
    "batter_data.shape"
   ]
  },
  {
   "cell_type": "code",
   "execution_count": 175,
   "id": "fe7da04c",
   "metadata": {},
   "outputs": [
    {
     "data": {
      "text/plain": [
       "Index(['BA', '2B/AB', '3B/AB', 'HR/AB', 'RBI/G', 'R/G', 'BB/G', 'SB/G',\n",
       "       'HBP/G', 'fantasy_ppg', 'ppg_vs_hand', 'fantasy_points', 'wind_factor',\n",
       "       'temp', 'starting_p_rpip', 'hr_factor', 'ba_factor',\n",
       "       'seasonal_singles_p_game', 'seasonal_doubles_p_game',\n",
       "       'seasonal_triples_p_game', 'seasonal_hr_p_game', 'seasonal_rbis_p_game',\n",
       "       'seasonal_runs_p_game', 'seasonal_walks_p_game', 'seasonal_sb_p_game',\n",
       "       'seasonal_hbp_p_game', 'seasonal_ab_p_game', 'last_7_fantasy',\n",
       "       'position_1.0', 'position_2.0', 'position_3.0', 'position_4.0',\n",
       "       'position_5.0', 'position_6.0', 'position_7.0', 'position_8.0',\n",
       "       'position_9.0', 'position_10.0', 'position_11.0'],\n",
       "      dtype='object')"
      ]
     },
     "execution_count": 175,
     "metadata": {},
     "output_type": "execute_result"
    }
   ],
   "source": [
    "# Drop unused categories\n",
    "batter_data = batter_data.drop(columns=['date', 'season', 'singles_', 'doubles_', 'triples_', 'home_runs_', 'rbis_', 'runs_', 'walks_', 'stolen_bases_', 'hbp_', 'ab_', 'Unnamed: 0', 'playerID', 'starting_pitcher_hand'])\n",
    "\n",
    "X = batter_data.drop(columns=['fantasy_points'])\n",
    "y = batter_data['fantasy_points']\n",
    "\n",
    "# Normalize data so it can be handle by linear regression models\n",
    "ss = StandardScaler()\n",
    "ss.fit(X)\n",
    "X = ss.transform(X)\n",
    "\n",
    "# Split into a training and a testing set\n",
    "X_train, X_test, y_train, y_test = train_test_split(X, y)"
   ]
  },
  {
   "cell_type": "code",
   "execution_count": 184,
   "id": "36aaf666",
   "metadata": {},
   "outputs": [
    {
     "data": {
      "text/plain": [
       "(498650, 39)"
      ]
     },
     "execution_count": 184,
     "metadata": {},
     "output_type": "execute_result"
    }
   ],
   "source": [
    "batter_data.shape"
   ]
  },
  {
   "cell_type": "code",
   "execution_count": 4,
   "id": "5ce75797",
   "metadata": {
    "scrolled": true
   },
   "outputs": [
    {
     "data": {
      "text/plain": [
       "9.2521102791034"
      ]
     },
     "execution_count": 4,
     "metadata": {},
     "output_type": "execute_result"
    }
   ],
   "source": [
    "# Establish baseline to compare models to \n",
    "mean_fantasy = y_train.mean()\n",
    "mean_ = np.full((y_test.shape[0],), mean_fantasy)\n",
    "mean_squared_error(y_test, mean_)**.5\n"
   ]
  },
  {
   "cell_type": "code",
   "execution_count": 95,
   "id": "fb1158fd",
   "metadata": {},
   "outputs": [
    {
     "data": {
      "text/plain": [
       "8.773251599795252"
      ]
     },
     "execution_count": 95,
     "metadata": {},
     "output_type": "execute_result"
    }
   ],
   "source": [
    "# Fit 1st model\n",
    "xg_reg = xgb.XGBRegressor(n_estimators = 100, learning_rate =.1, max_depth=3)\n",
    "xg_reg.fit(X_train, y_train)\n",
    "\n",
    "y_hat_xg = xg_reg.predict(X_test)\n",
    "mean_squared_error(y_test, y_hat_xg)**.5"
   ]
  },
  {
   "cell_type": "code",
   "execution_count": 8,
   "id": "c381918e",
   "metadata": {},
   "outputs": [
    {
     "data": {
      "text/plain": [
       "8.768181147612948"
      ]
     },
     "execution_count": 8,
     "metadata": {},
     "output_type": "execute_result"
    }
   ],
   "source": [
    "# Fit 2nd model\n",
    "xg_reg_2 = xgb.XGBRegressor(n_estimators = 1000, learning_rate =.1, max_depth=2)\n",
    "xg_reg_2.fit(X_train, y_train)\n",
    "y_hat_xg2 = xg_reg_2.predict(X_test)\n",
    "mean_squared_error(y_test, y_hat_xg2)**.5"
   ]
  },
  {
   "cell_type": "code",
   "execution_count": 10,
   "id": "75866704",
   "metadata": {},
   "outputs": [
    {
     "data": {
      "text/plain": [
       "8.779845452495143"
      ]
     },
     "execution_count": 10,
     "metadata": {},
     "output_type": "execute_result"
    }
   ],
   "source": [
    "# Fit 3rd model\n",
    "xg_reg_3 = xgb.XGBRegressor(n_estimators = 1000, learning_rate =.2, max_depth=1)\n",
    "xg_reg_3.fit(X_train, y_train)\n",
    "y_hat_xg3 = xg_reg_3.predict(X_test)\n",
    "mean_squared_error(y_test, y_hat_xg3)**.5"
   ]
  },
  {
   "cell_type": "code",
   "execution_count": 12,
   "id": "d72f4bd2",
   "metadata": {},
   "outputs": [
    {
     "data": {
      "text/plain": [
       "8.79087168263175"
      ]
     },
     "execution_count": 12,
     "metadata": {},
     "output_type": "execute_result"
    }
   ],
   "source": [
    "# Fit 4th model\n",
    "line = LinearRegression()\n",
    "line.fit(X_train, y_train)\n",
    "y_hat_line = line.predict(X_test)\n",
    "mean_squared_error(y_test, y_hat_line)**.5"
   ]
  },
  {
   "cell_type": "code",
   "execution_count": 93,
   "id": "1c587565",
   "metadata": {},
   "outputs": [
    {
     "data": {
      "text/plain": [
       "9.077051025960968"
      ]
     },
     "execution_count": 93,
     "metadata": {},
     "output_type": "execute_result"
    }
   ],
   "source": [
    "# Fit 5th model\n",
    "features = [22,0]\n",
    "line_2 = LinearRegression()\n",
    "line_2.fit(X_train[:,features], y_train)\n",
    "y_hat_line_2 = line_2.predict(X_test[:,features])\n",
    "mean_squared_error(y_test, y_hat_line_2)**.5"
   ]
  },
  {
   "cell_type": "code",
   "execution_count": 65,
   "id": "9426350d",
   "metadata": {},
   "outputs": [
    {
     "data": {
      "text/plain": [
       "9.006970220591485"
      ]
     },
     "execution_count": 65,
     "metadata": {},
     "output_type": "execute_result"
    }
   ],
   "source": [
    "# Fit 6th model\n",
    "rfor = RandomForestRegressor(n_estimators=100, max_depth=3)\n",
    "rfor.fit(X_train[:100000,[0,5]], y_train[:100000])\n",
    "y_hat_rfor = rfor.predict(X_test[:,[0,5]])\n",
    "mean_squared_error(y_test, y_hat_rfor)**.5"
   ]
  },
  {
   "cell_type": "code",
   "execution_count": 107,
   "id": "95269c51",
   "metadata": {},
   "outputs": [],
   "source": [
    "# Combine models into an ensemble and give a weight to each model\n",
    "def ensemble(w1, w2,w3,w4,w5,w6):\n",
    "    sum_w = w1+w2+w3+w4+w5+w6\n",
    "    return (y_hat_xg * w1 + y_hat_xg2 * w2 + y_hat_xg3 * w3 + y_hat_line * w4 + y_hat_rfor * w5 + y_hat_rfor * w6) / sum_w\n",
    "\n"
   ]
  },
  {
   "cell_type": "code",
   "execution_count": 106,
   "id": "57d09a4f",
   "metadata": {},
   "outputs": [
    {
     "name": "stdout",
     "output_type": "stream",
     "text": [
      "1.1, 5.1, 0, 0.9, 0, 0 8.767049088901341\n"
     ]
    }
   ],
   "source": [
    "def find_best_weights(l1,l2,l3,l4,l5,l6):\n",
    "    best = 100\n",
    "    for w1 in l1:\n",
    "        for w2 in l2:\n",
    "            for w3 in l3:\n",
    "                for w4 in l4:\n",
    "                    for w5 in l5:\n",
    "                        for w6 in l6:\n",
    "                            y_hat = ensemble(w1,w2,w3,w4,w5,w6)\n",
    "                            try:\n",
    "                                mse = mean_squared_error(y_test, y_hat)**.5\n",
    "                                if mse < best:\n",
    "                                    best = mse\n",
    "                                    weights = f'{w1}, {w2}, {w3}, {w4}, {w5}, {w6}'\n",
    "                            except:\n",
    "                                pass\n",
    "    print(weights, best)\n",
    "    \n",
    "    \n",
    "l1 = [.8,.9,1,1.1,1.2]\n",
    "l2 = [4.8,4.9,5,5.1,5.2]\n",
    "l3 = [0, .1,.2,.3]\n",
    "l4 = [.8,.9,1,1.,1.2]\n",
    "l5 = [0,.1,.2,.3]\n",
    "l6 = [0,1,2,3,4,5]\n",
    "\n",
    "find_best_weights(l1,l2,l3,l4,l5,l6)"
   ]
  },
  {
   "cell_type": "code",
   "execution_count": 111,
   "id": "a17f387c",
   "metadata": {},
   "outputs": [
    {
     "data": {
      "text/plain": [
       "['fit_models/1_xgboost.joblib']"
      ]
     },
     "execution_count": 111,
     "metadata": {},
     "output_type": "execute_result"
    }
   ],
   "source": [
    "dump(xg_reg, 'fit_models/1_xgboost.joblib')"
   ]
  },
  {
   "cell_type": "code",
   "execution_count": 112,
   "id": "6146fd86",
   "metadata": {},
   "outputs": [
    {
     "data": {
      "text/plain": [
       "['fit_models/2_xgboost.joblib']"
      ]
     },
     "execution_count": 112,
     "metadata": {},
     "output_type": "execute_result"
    }
   ],
   "source": [
    "dump(xg_reg_2, 'fit_models/2_xgboost.joblib')\n"
   ]
  },
  {
   "cell_type": "code",
   "execution_count": 113,
   "id": "3b2c5e18",
   "metadata": {},
   "outputs": [
    {
     "data": {
      "text/plain": [
       "['fit_models/3_line.joblib']"
      ]
     },
     "execution_count": 113,
     "metadata": {},
     "output_type": "execute_result"
    }
   ],
   "source": [
    "dump(line, 'fit_models/3_line.joblib')"
   ]
  },
  {
   "cell_type": "code",
   "execution_count": 114,
   "id": "65785a74",
   "metadata": {},
   "outputs": [],
   "source": [
    "weight_dictionary = {'w1':1.1, 'w2':5.1, 'w3':.9}"
   ]
  },
  {
   "cell_type": "code",
   "execution_count": 180,
   "id": "2057e3ab",
   "metadata": {},
   "outputs": [],
   "source": [
    "file = open(\"fit_models/weights.txt\", \"w\")\n",
    "file.write(\"{'w1':1.1, 'w2':5.1, 'w3':.9}\")\n",
    "file.close()"
   ]
  }
 ],
 "metadata": {
  "kernelspec": {
   "display_name": "Python 3",
   "language": "python",
   "name": "python3"
  },
  "language_info": {
   "codemirror_mode": {
    "name": "ipython",
    "version": 3
   },
   "file_extension": ".py",
   "mimetype": "text/x-python",
   "name": "python",
   "nbconvert_exporter": "python",
   "pygments_lexer": "ipython3",
   "version": "3.8.10"
  }
 },
 "nbformat": 4,
 "nbformat_minor": 5
}
